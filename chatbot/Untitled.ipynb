{
 "cells": [
  {
   "cell_type": "code",
   "execution_count": 25,
   "id": "e2612aae-345b-41db-a678-686aee98a9c4",
   "metadata": {},
   "outputs": [
    {
     "name": "stdout",
     "output_type": "stream",
     "text": [
      "{'_id': ObjectId('682c402d2fc1b5c888372aa5'), 'order_id': 'O1', 'user_id': 'U1', 'total': 120, 'status': 'shipped'}\n",
      "{'_id': ObjectId('682c402d2fc1b5c888372aa6'), 'order_id': 'O2', 'user_id': 'U2', 'total': 140, 'status': 'delivered'}\n"
     ]
    }
   ],
   "source": [
    "from pymongo import MongoClient\n",
    "\n",
    "# Connect to local MongoDB\n",
    "client = MongoClient(\"mongodb://localhost:27017/\")\n",
    "\n",
    "# Access database and collections\n",
    "db = client[\"ecommdb\"]\n",
    "\n",
    "# Sample query\n",
    "for doc in db[\"orders\"].find().limit(2):\n",
    "    print(doc)\n"
   ]
  },
  {
   "cell_type": "code",
   "execution_count": 26,
   "id": "b6ac8bf9-3905-4952-a382-6e25c04ba599",
   "metadata": {},
   "outputs": [
    {
     "name": "stdout",
     "output_type": "stream",
     "text": [
      "Total documents in orders: 20\n",
      "{'_id': ObjectId('682c402d2fc1b5c888372aa5'), 'order_id': 'O1', 'user_id': 'U1', 'total': 120, 'status': 'shipped'}\n",
      "{'_id': ObjectId('682c402d2fc1b5c888372aa6'), 'order_id': 'O2', 'user_id': 'U2', 'total': 140, 'status': 'delivered'}\n",
      "{'_id': ObjectId('682c402d2fc1b5c888372aa7'), 'order_id': 'O3', 'user_id': 'U3', 'total': 160, 'status': 'delivered'}\n",
      "{'_id': ObjectId('682c402d2fc1b5c888372aa8'), 'order_id': 'O4', 'user_id': 'U4', 'total': 180, 'status': 'cancelled'}\n",
      "{'_id': ObjectId('682c402d2fc1b5c888372aa9'), 'order_id': 'O5', 'user_id': 'U5', 'total': 200, 'status': 'delivered'}\n"
     ]
    }
   ],
   "source": [
    "from pymongo import MongoClient\n",
    "\n",
    "# Connect to local MongoDB\n",
    "client = MongoClient(\"mongodb://localhost:27017/\")\n",
    "\n",
    "# Access database and collections\n",
    "db = client[\"ecommdb\"]\n",
    "total_count = db[\"orders\"].count_documents({})\n",
    "print(f\"Total documents in orders: {total_count}\")\n",
    "for doc in db[\"orders\"].find().limit(5):\n",
    "    print(doc)\n",
    "\n"
   ]
  },
  {
   "cell_type": "code",
   "execution_count": 27,
   "id": "a8cc7738-1667-4079-9916-1235291f577c",
   "metadata": {},
   "outputs": [
    {
     "name": "stdout",
     "output_type": "stream",
     "text": [
      "{'_id': ObjectId('682c402d2fc1b5c888372aa5'), 'order_id': 'O1', 'user_id': 'U1', 'total': 120, 'status': 'shipped'}\n",
      "{'_id': ObjectId('682c402d2fc1b5c888372ab3'), 'order_id': 'O15', 'user_id': 'U15', 'total': 400, 'status': 'shipped'}\n",
      "{'_id': ObjectId('682c402d2fc1b5c888372ab6'), 'order_id': 'O18', 'user_id': 'U18', 'total': 460, 'status': 'shipped'}\n",
      "{'_id': ObjectId('682c402d2fc1b5c888372ab8'), 'order_id': 'O20', 'user_id': 'U20', 'total': 500, 'status': 'shipped'}\n"
     ]
    }
   ],
   "source": [
    "from pymongo import MongoClient\n",
    "client = MongoClient(\"mongodb://localhost:27017/\")\n",
    "db = client[\"ecommdb\"]\n",
    "for doc in db[\"orders\"].find({\"status\":\"shipped\"}):\n",
    "    print(doc)"
   ]
  },
  {
   "cell_type": "code",
   "execution_count": 30,
   "id": "b8c369dc-aa4e-4738-afb7-2705430580d9",
   "metadata": {},
   "outputs": [
    {
     "name": "stdout",
     "output_type": "stream",
     "text": [
      "{'_id': ObjectId('682c41392fc1b5c888372b11'), 'payment_id': 'P3', 'order_id': 'O3', 'amount': 160, 'method': 'upi'}\n",
      "{'_id': ObjectId('682c41392fc1b5c888372b17'), 'payment_id': 'P9', 'order_id': 'O9', 'amount': 280, 'method': 'upi'}\n",
      "{'_id': ObjectId('682c41392fc1b5c888372b1a'), 'payment_id': 'P12', 'order_id': 'O12', 'amount': 340, 'method': 'upi'}\n",
      "{'_id': ObjectId('682c41392fc1b5c888372b1d'), 'payment_id': 'P15', 'order_id': 'O15', 'amount': 400, 'method': 'upi'}\n",
      "{'_id': ObjectId('682c41392fc1b5c888372b1f'), 'payment_id': 'P17', 'order_id': 'O17', 'amount': 440, 'method': 'upi'}\n",
      "{'_id': ObjectId('682c41392fc1b5c888372b20'), 'payment_id': 'P18', 'order_id': 'O18', 'amount': 460, 'method': 'upi'}\n"
     ]
    }
   ],
   "source": [
    "from pymongo import MongoClient\n",
    "client=MongoClient(\"mongodb://localhost:27017/\")\n",
    "db=client[\"ecommdb\"]\n",
    "for doc in db['payments'].find({'method':'upi'}):\n",
    "    print(doc)"
   ]
  },
  {
   "cell_type": "code",
   "execution_count": 1,
   "id": "447b10c7-dfa1-44fc-8b25-46a9d09c6b23",
   "metadata": {},
   "outputs": [
    {
     "name": "stdout",
     "output_type": "stream",
     "text": [
      "{'_id': ObjectId('682c41182fc1b5c888372ad0'), 'book_id': 'B2', 'title': 'Book Title 2', 'author': 'Author 2', 'price': 20}\n"
     ]
    }
   ],
   "source": [
    "from pymongo import MongoClient\n",
    "client=MongoClient(\"mongodb://localhost:27017/\")\n",
    "db=client[\"ecommdb\"]\n",
    "for doc in db['books'].find({'price':20}):\n",
    "    print(doc)"
   ]
  },
  {
   "cell_type": "code",
   "execution_count": null,
   "id": "edcb5fae",
   "metadata": {},
   "outputs": [],
   "source": []
  },
  {
   "cell_type": "code",
   "execution_count": null,
   "id": "fecd87ab",
   "metadata": {},
   "outputs": [],
   "source": []
  }
 ],
 "metadata": {
  "kernelspec": {
   "display_name": "(Ecomm Chatbot)",
   "language": "python",
   "name": "ecommchatbot"
  },
  "language_info": {
   "codemirror_mode": {
    "name": "ipython",
    "version": 3
   },
   "file_extension": ".py",
   "mimetype": "text/x-python",
   "name": "python",
   "nbconvert_exporter": "python",
   "pygments_lexer": "ipython3",
   "version": "3.12.3"
  }
 },
 "nbformat": 4,
 "nbformat_minor": 5
}
